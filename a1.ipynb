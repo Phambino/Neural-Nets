{
  "nbformat": 4,
  "nbformat_minor": 0,
  "metadata": {
    "colab": {
      "name": "a1.ipynb",
      "provenance": [],
      "collapsed_sections": [
        "P8DBH2TySwqk",
        "J656o6ffSwql"
      ],
      "toc_visible": true
    },
    "kernelspec": {
      "name": "python3",
      "display_name": "Python 3"
    }
  },
  "cells": [
    {
      "cell_type": "markdown",
      "metadata": {
        "id": "1Nm-GbeaSwqa"
      },
      "source": [
        "# CSC413 Assignment 1: Word Embeddings\n",
        "\n",
        "**Deadline**: February 5, 2021 by 10pm\n",
        "\n",
        "**Submission**: Submit a PDF report containing your code, outputs,\n",
        "and your written solutions.\n",
        "You may export the completed notebook, but if you do so\n",
        "**it is your responsibly to make sure that your code and answers do not get cut off**.\n",
        "\n",
        "**Late Submission**: Please see the syllabus for the late submission criteria.\n",
        "\n",
        "**Working with a partner**: You may work with a partner for this assignment.\n",
        "If you decide to work with a partner, please create your group on Markus by\n",
        "February 5, 10pm, even if you intend to use grace tokens. Markus does not allow\n",
        "you to create groups past the deadline, even if you have grace tokens remaining.\n",
        "\n",
        "Based on an assignment by George Dahl, Jing Yao Li, and Roger Grosse\n",
        "\n",
        "In this assignment, we will make a neural network that can predict the next word\n",
        "in a sentence given the previous three. We will apply an idea called *weight sharing*\n",
        "to go beyond multi-layer perceptrons with only fully-connected layers.\n",
        "\n",
        "We will also solve this problem problem twice: once in numpy, and once\n",
        "using PyTorch. When using numpy, you'll implement the backpropagation\n",
        "computation manually.\n",
        "\n",
        "The prediction task is not very interesting on its own, but in learning to predict\n",
        "subsequent words given the previous three, our neural networks will learn\n",
        "about how to *represent* words. In the last part of the assignment, we'll explore\n",
        "the *vector representations* of words that our model produces, and analyze these\n",
        "representations.\n",
        "\n",
        "You may modify the starter code, including changing the signatures of helper \n",
        "functions and adding/removing helper functions. However, please make sure that your\n",
        "TA can understand what you are doing and why."
      ]
    },
    {
      "cell_type": "code",
      "metadata": {
        "id": "-WI6bUbhSwqe"
      },
      "source": [
        "import pandas\n",
        "import numpy as np\n",
        "import matplotlib.pyplot as plt\n",
        "\n",
        "import torch\n",
        "import torch.nn as nn\n",
        "import torch.optim as optim"
      ],
      "execution_count": 38,
      "outputs": []
    },
    {
      "cell_type": "markdown",
      "metadata": {
        "id": "9U3pEVV-Swqf"
      },
      "source": [
        "## Question 1. Data\n",
        "\n",
        "With any machine learning problem, the first thing that we would want to do\n",
        "is to get an intuitive understanding of what our data looks like.\n",
        "Download the file `raw_sentences.txt` from Quercus.\n",
        "\n",
        "If you're using Google Colab, upload the file to Google Drive.\n",
        "Then, mount Google Drive from your Google Colab notebook:"
      ]
    },
    {
      "cell_type": "code",
      "metadata": {
        "colab": {
          "base_uri": "https://localhost:8080/"
        },
        "id": "I1814m4sSwqf",
        "outputId": "89438466-d2c9-4619-9fa2-6c951a7393a3"
      },
      "source": [
        "from google.colab import drive\n",
        "drive.mount('/content/gdrive')"
      ],
      "execution_count": 39,
      "outputs": [
        {
          "output_type": "stream",
          "text": [
            "Drive already mounted at /content/gdrive; to attempt to forcibly remount, call drive.mount(\"/content/gdrive\", force_remount=True).\n"
          ],
          "name": "stdout"
        }
      ]
    },
    {
      "cell_type": "markdown",
      "metadata": {
        "id": "nHpAv2eFSwqg"
      },
      "source": [
        "Find the path to `raw_sentences.txt`:"
      ]
    },
    {
      "cell_type": "code",
      "metadata": {
        "id": "xi3DN9wlSwqg"
      },
      "source": [
        "file_path = '/content/gdrive/My Drive/CSC413/raw_sentences.txt' # TODO - UPDATE ME!"
      ],
      "execution_count": 40,
      "outputs": []
    },
    {
      "cell_type": "markdown",
      "metadata": {
        "id": "58IXJ8feSwqg"
      },
      "source": [
        "You might find it helpful to know that you can run shell commands (like `ls`) by\n",
        "using `!` in Google Colab, like this:"
      ]
    },
    {
      "cell_type": "code",
      "metadata": {
        "id": "JgM5jF2SSwqg"
      },
      "source": [
        "!ls /content/gdrive/My\\ Drive/\n",
        "!mkdir /content/gdrive/My\\ Drive/CSC413"
      ],
      "execution_count": null,
      "outputs": []
    },
    {
      "cell_type": "markdown",
      "metadata": {
        "id": "dEsVBYVPSwqg"
      },
      "source": [
        "The following code reads the sentences in our file, split each sentence into\n",
        "its individual words, and stores the sentences (list of words) in the\n",
        "variable `sentences`."
      ]
    },
    {
      "cell_type": "code",
      "metadata": {
        "id": "Nwbm0mgGSwqh"
      },
      "source": [
        "sentences = []\n",
        "for line in open(file_path):\n",
        "    words = line.split()\n",
        "    sentence = [word.lower() for word in words]\n",
        "    sentences.append(sentence)"
      ],
      "execution_count": 41,
      "outputs": []
    },
    {
      "cell_type": "markdown",
      "metadata": {
        "id": "_qN_RVNzSwqh"
      },
      "source": [
        "There are 97,162 sentences in total, and \n",
        "these sentences are composed of 250 distinct words."
      ]
    },
    {
      "cell_type": "code",
      "metadata": {
        "id": "vwnXzLtQSwqh",
        "colab": {
          "base_uri": "https://localhost:8080/"
        },
        "outputId": "4c95633e-b691-489e-e225-89cc50c1c0f2"
      },
      "source": [
        "vocab = set([w for s in sentences for w in s])\n",
        "print(len(sentences)) # 97162\n",
        "print(len(vocab)) # 250"
      ],
      "execution_count": 42,
      "outputs": [
        {
          "output_type": "stream",
          "text": [
            "97162\n",
            "250\n"
          ],
          "name": "stdout"
        }
      ]
    },
    {
      "cell_type": "markdown",
      "metadata": {
        "id": "KWmbRUxZSwqh"
      },
      "source": [
        "We'll separate our data into training, validation, and test.\n",
        "We'll use 10,000 sentences for test, 10,000 for validation, and\n",
        "the rest for training."
      ]
    },
    {
      "cell_type": "code",
      "metadata": {
        "id": "pj6oV38YSwqh"
      },
      "source": [
        "test, valid, train = sentences[:10000], sentences[10000:20000], sentences[20000:]"
      ],
      "execution_count": 43,
      "outputs": []
    },
    {
      "cell_type": "markdown",
      "metadata": {
        "id": "6EZUdLJ3Swqh"
      },
      "source": [
        "### Part (a) -- 2 pts\n",
        "\n",
        "Display 10 sentences in the training set.\n",
        "Explain how punctuations are treated in our word representation, and how words\n",
        "with apostrophes are represented.\n",
        "\n",
        "(Note that for questions like this, you'll need to supply both your code **and**\n",
        "the output of your code to earn full credit.)"
      ]
    },
    {
      "cell_type": "code",
      "metadata": {
        "id": "iRZF-pjDSwqi",
        "colab": {
          "base_uri": "https://localhost:8080/"
        },
        "outputId": "12fdee59-7382-4b3a-a413-e0d50f32b2c8"
      },
      "source": [
        "for i in range(10):\r\n",
        "  print(train[i])\r\n",
        "#Punctuations are treated as another word. However apostrophes are treated as spaces, \r\n",
        "#therefore words like \"didn't\" is treated as \"did\" and \"nt\" and each of them are treated as words seperately."
      ],
      "execution_count": 44,
      "outputs": [
        {
          "output_type": "stream",
          "text": [
            "['last', 'night', ',', 'he', 'said', ',', 'did', 'it', 'for', 'me', '.']\n",
            "['on', 'what', 'can', 'i', 'do', '?']\n",
            "['now', 'where', 'does', 'it', 'go', '?']\n",
            "['what', 'did', 'the', 'court', 'do', '?']\n",
            "['but', 'at', 'the', 'same', 'time', ',', 'we', 'have', 'a', 'long', 'way', 'to', 'go', '.']\n",
            "['that', 'was', 'the', 'only', 'way', '.']\n",
            "['this', 'team', 'will', 'be', 'back', '.']\n",
            "['so', 'that', 'is', 'what', 'i', 'do', '.']\n",
            "['we', 'have', 'a', 'right', 'to', 'know', '.']\n",
            "['now', 'they', 'are', 'three', '.']\n"
          ],
          "name": "stdout"
        }
      ]
    },
    {
      "cell_type": "markdown",
      "metadata": {
        "id": "Y0o-6K7iSwqi"
      },
      "source": [
        "### Part (b) -- 2 pts\n",
        "\n",
        "What are the 10 most common words in the vocabulary? How often does each of these\n",
        "words appear in the training sentences? Express the second quantity a percentage\n",
        "(i.e. number of occurrences of the  word / total number of words in the training set).\n",
        "\n",
        "These are good quantities to compute, because one of the first things that most\n",
        "machine learning model will learn is to predict the **most common** class.\n",
        "Getting a sense of the distribution of our data will help you understand our\n",
        "model's behaviour.\n",
        "\n",
        "You might find Python's `collections.Counter` class helpful."
      ]
    },
    {
      "cell_type": "code",
      "metadata": {
        "id": "vEiDeHhuSwqi",
        "colab": {
          "base_uri": "https://localhost:8080/"
        },
        "outputId": "4a19c5fd-137b-46d1-b69b-7d445478a94f"
      },
      "source": [
        "# Your code goes here\r\n",
        "from collections import Counter\r\n",
        "c = Counter()\r\n",
        "for i in range(len(sentences)):\r\n",
        "  c += Counter(sentences[i])\r\n",
        "\r\n",
        "m_common = c.most_common(10)\r\n",
        "print(\"The 10 most common words in the vocabulary are: \")\r\n",
        "for i in range(len(m_common)):\r\n",
        "  print(str(i+1) + \": \" + m_common[i][0])\r\n",
        "\r\n",
        "print(\"The percentage of the 10 most common words in the training set are: \")\r\n",
        "c2 = Counter()\r\n",
        "for i in range(len(train)):\r\n",
        "  c2 += Counter(train[i])\r\n",
        "\r\n",
        "for i in range(len(c2.most_common(10))):\r\n",
        "  print((c2[m_common[i][0]]/len(train)) * 100)\r\n",
        "\r\n"
      ],
      "execution_count": 45,
      "outputs": [
        {
          "output_type": "stream",
          "text": [
            "The 10 most common words in the vocabulary are: \n",
            "1: .\n",
            "2: it\n",
            "3: ,\n",
            "4: i\n",
            "5: do\n",
            "6: to\n",
            "7: nt\n",
            "8: ?\n",
            "9: the\n",
            "10: that\n",
            "The percentage of the 10 most common words in the training set are: \n",
            "83.327285451388\n",
            "29.96034317410124\n",
            "25.319457764184445\n",
            "22.91801664031518\n",
            "20.970166662346752\n",
            "20.074648142868252\n",
            "16.85933490578264\n",
            "16.69345014385319\n",
            "16.307249682486198\n",
            "16.245042896762655\n"
          ],
          "name": "stdout"
        }
      ]
    },
    {
      "cell_type": "markdown",
      "metadata": {
        "id": "46G1wSGKSwqi"
      },
      "source": [
        "### Part (c) -- 4 pts\n",
        "\n",
        "Complete the helper functions `convert_words_to_indices` and\n",
        "`generate_4grams`, so that the function `process_data` will take a \n",
        "list of sentences (i.e. list of list of words), and generate an \n",
        "$N \\times 4$ numpy matrix containing indices of 4 words that appear\n",
        "next to each other. You can use the constants `vocab`, `vocab_itos`,\n",
        "and `vocab_stoi` in your code."
      ]
    },
    {
      "cell_type": "code",
      "metadata": {
        "id": "oHJSqCnISwqi"
      },
      "source": [
        "# A list of all the words in the data set. We will assign a unique \n",
        "# identifier for each of these words.\n",
        "vocab = sorted(list(set([w for s in train for w in s])))\n",
        "# A mapping of index => word (string)\n",
        "vocab_itos = dict(enumerate(vocab))\n",
        "# A mapping of word => its index\n",
        "vocab_stoi = {word:index for index, word in vocab_itos.items()}\n",
        "\n",
        "def convert_words_to_indices(sents):\n",
        "    \"\"\"\n",
        "    This function takes a list of sentences (list of list of words)\n",
        "    and returns a new list with the same structure, but where each word\n",
        "    is replaced by its index in `vocab_stoi`.\n",
        "\n",
        "    Example:\n",
        "    >>> convert_words_to_indices([['one', 'in', 'five', 'are', 'over', 'here'],\n",
        "                                  ['other', 'one', 'since', 'yesterday'],\n",
        "                                  ['you']])\n",
        "    [[148, 98, 70, 23, 154, 89], [151, 148, 181, 246], [248]]\n",
        "    \"\"\"\n",
        "\n",
        "    for i in range(len(sents)):\n",
        "      for j in range(len(sents[i])):\n",
        "        sents[i][j] = vocab_stoi[sents[i][j]]\n",
        "\n",
        "    return sents\n",
        "\n",
        "def generate_4grams(seqs):\n",
        "    \"\"\"\n",
        "    This function takes a list of sentences (list of lists) and returns\n",
        "    a new list containing the 4-grams (four consequentively occuring words)\n",
        "    that appear in the sentences. Note that a unique 4-gram can appear multiple\n",
        "    times, one per each time that the 4-gram appears in the data parameter `seqs`.\n",
        "\n",
        "    Example:\n",
        "\n",
        "    >>> generate_4grams([[148, 98, 70, 23, 154, 89], [151, 148, 181, 246], [248]])\n",
        "    [[148, 98, 70, 23], [98, 70, 23, 154], [70, 23, 154, 89], [151, 148, 181, 246]]\n",
        "    >>> generate_4grams([[1, 1, 1, 1, 1]])\n",
        "    [[1, 1, 1, 1], [1, 1, 1, 1]]\n",
        "    \"\"\"\n",
        "\n",
        "    four_gram = []\n",
        "    for i in range(len(seqs)):\n",
        "      if(len(seqs[i]) > 3):\n",
        "        for j in range(len(seqs[i]) - 3):\n",
        "            four_gram.append(seqs[i][j:j+4])\n",
        "\n",
        "    return four_gram\n",
        "\n",
        "def process_data(sents):\n",
        "    \"\"\"\n",
        "    This function takes a list of sentences (list of lists), and generates an\n",
        "    numpy matrix with shape [N, 4] containing indices of words in 4-grams.\n",
        "    \"\"\"\n",
        "    indices = convert_words_to_indices(sents)\n",
        "    fourgrams = generate_4grams(indices)\n",
        "    return np.array(fourgrams)\n",
        "\n",
        "train4grams = process_data(train)\n",
        "valid4grams = process_data(valid)\n",
        "test4grams = process_data(test)"
      ],
      "execution_count": 46,
      "outputs": []
    },
    {
      "cell_type": "markdown",
      "metadata": {
        "id": "3DEYMbjySwqj"
      },
      "source": [
        "## Question 2. MLP Math\n",
        "\n",
        "Suppose we were to use a 2-layer multilayer perceptron to solve this prediction\n",
        "problem. Our model will look like this:\n",
        "\n",
        "<img src=\"https://www.cs.toronto.edu/~lczhang/321/hw/p2_model1.png\" />\n",
        "\n",
        "\\begin{align*}\n",
        "\\bf{x} &= \\text{concatenation of the one-hot vector for words 1, 2 and 3} \\\\\n",
        "\\bf{m} &= \\bf{W^{(1)}} \\bf{x} + \\bf{b^{(1)}} \\\\\n",
        "\\bf{h} &= \\textrm{ReLU}(\\bf{m}) \\\\\n",
        "\\bf{z} &= \\bf{W^{(2)}} \\bf{h} + \\bf{b^{(2)}} \\\\\n",
        "\\bf{y} &= \\textrm{softmax}(\\bf{z}) \\\\\n",
        "\\end{align*}\n",
        "\n",
        "### Part (a) -- 2 pts\n",
        "\n",
        "What is the shape of the input vector $\\bf{x}$?\n",
        "What is the shape of the output vector $\\bf{y}$?\n",
        "Let $k$ represent the size of the hidden layer. What are the\n",
        "dimension of $W^{(1)}$ and $W^{(2)}$?"
      ]
    },
    {
      "cell_type": "code",
      "metadata": {
        "id": "paGgK-0NSwqj"
      },
      "source": [
        "# The shape of x is 750 x 1. The shape of y is 250 x 1. The dimensions of W(1) is 750 x k and dimensions of W(2) is k x 250"
      ],
      "execution_count": null,
      "outputs": []
    },
    {
      "cell_type": "markdown",
      "metadata": {
        "id": "dmWeYO0XSwqj"
      },
      "source": [
        "### Part (b) -- 2 pts\n",
        "\n",
        "Draw a computation graph for $\\bf{y}$. Your graph should include\n",
        "the quantities $\\bf{W^{(1)}}$, $\\bf{W^{(2)}}$, $\\bf{b^{(1)}}$, $\\bf{b^{(2)}}$,\n",
        "$\\bf{x}$, $\\bf{m}$, $\\bf{h}$, $\\bf{z}$ and $\\bf{y}$."
      ]
    },
    {
      "cell_type": "markdown",
      "metadata": {
        "id": "2KXdrrnw_Knw"
      },
      "source": [
        "![picture](https://drive.google.com/uc?export=view&id=1yvp31lsarriJEirbYxc96tEV0bSEONuf)"
      ]
    },
    {
      "cell_type": "markdown",
      "metadata": {
        "id": "3Coa7IYcSwqk"
      },
      "source": [
        "### Part (c) -- 3 pts\n",
        "\n",
        "Derive the gradient descent update rule for ${\\bf W}^{(2)}$.\n",
        "You should begin by deriving the update rule for $W^{(2)}_{ij}$,\n",
        "and then vectorize your answer. Assume that we will use the softmax\n",
        "activation and cross-entropy loss.\n",
        "\n",
        "Note: if you use the derivative of the softamx activation and\n",
        "the cross-entropy loss, you **must** derive them."
      ]
    },
    {
      "cell_type": "markdown",
      "metadata": {
        "id": "7uTm1zKa2Ky6"
      },
      "source": [
        "![picture](https://drive.google.com/uc?export=view&id=1jTPkkoINH7jRqEYo4YKgBi_uzZffmwPp)"
      ]
    },
    {
      "cell_type": "markdown",
      "metadata": {
        "id": "gDQmheEa2Pqt"
      },
      "source": [
        "![picture](https://drive.google.com/uc?export=view&id=1LwPbobV9-ef4UX7DRpAm_kSmwDSxB2Lz)"
      ]
    },
    {
      "cell_type": "markdown",
      "metadata": {
        "id": "P8DBH2TySwqk"
      },
      "source": [
        "### Part (d) -- 4 pts\n",
        "\n",
        "What would be the update rule for $W^{(2)}_{ij}$, if we use the square loss\n",
        "$\\mathcal{L}_{SE}(\\bf{y}, \\bf{t}) = \\frac{1}{2}(\\bf{y} - \\bf{t})^2$ ?\n",
        "\n",
        "Show that we will not get good gradient signal\n",
        "to update $W^{(2)}_{ij}$ if we use this square loss."
      ]
    },
    {
      "cell_type": "markdown",
      "metadata": {
        "id": "7gfBWkjlEkk5"
      },
      "source": [
        "![picture](https://drive.google.com/uc?export=view&id=1HLg3yIIGV-GCjf7U7xSmvAg9BPFEXru6)"
      ]
    },
    {
      "cell_type": "code",
      "metadata": {
        "id": "q2KszAEgSwqk"
      },
      "source": [
        "# If we choose to use squared loss, the value of our error will be significantly large which will cause\r\n",
        "# our gradient to become very small. This will have bad effects on the training.\r\n",
        "# Therefore squared loss will not get good gradient signal."
      ],
      "execution_count": null,
      "outputs": []
    },
    {
      "cell_type": "markdown",
      "metadata": {
        "id": "7zMLvCA0AYcq"
      },
      "source": [
        "### Part (e) -- 4 pts\r\n",
        "\r\n",
        "In this question, we'll show a similar issue with using \r\n",
        "the sigmoid activation. Let's assume we have a deep neural network\r\n",
        "as follows:\r\n",
        "\r\n",
        "\\begin{align*}\r\n",
        "h_1 &= \\sigma(w_1 x + b_1) \\\\\r\n",
        "h_2 &= \\sigma(w_2 h_1 + b_2) \\\\\r\n",
        "\\dots\r\n",
        "\\end{align*}\r\n",
        "\r\n",
        "where, for simplicity, $x$, $w_1$, $b_1$, $h_1$, $w_2$, $b_2$, $h_2$, etc., are all scalars. Show that\r\n",
        "\r\n",
        "\\begin{align*}\r\n",
        "|\\frac{\\partial h_1}{\\partial x}| \\le \\frac{1}{4} |w_1|\r\n",
        "\\end{align*}\r\n",
        "\r\n",
        "In order to do so, you will need to first\r\n",
        "show that $\\sigma'(z) = \\sigma(z) (1 - \\sigma(z))$ (worth 1 point). \r\n",
        "Include a plot (or sketch) of the function $\\sigma'(z)$ (worth 1 point)."
      ]
    },
    {
      "cell_type": "markdown",
      "metadata": {
        "id": "5QCsR8KWKFGQ"
      },
      "source": [
        "![picture](https://drive.google.com/uc?export=view&id=1BACvjwp0Q6bmwrdbA-pwoNMD4boFuNh7)"
      ]
    },
    {
      "cell_type": "markdown",
      "metadata": {
        "id": "SP2XaloaKLH4"
      },
      "source": [
        "![picture](https://drive.google.com/uc?export=view&id=1ksPrQbN4zk1YlbAYdrD87KNbsQOOvl5k)"
      ]
    },
    {
      "cell_type": "markdown",
      "metadata": {
        "id": "nhmXfBmnAkWg"
      },
      "source": [
        "### Part (f) -- 2 pts\r\n",
        "\r\n",
        "Continue from the previous question, show that for a deeper neural network.\r\n",
        "\r\n",
        "\\begin{align*}\r\n",
        "|\\frac{\\partial h_N}{\\partial x}| \\le \\frac{1}{4^N} |w_1| |w_2| \\cdots |w_N|\r\n",
        "\\end{align*}\r\n",
        "\r\n",
        "What would be a problem with this result?"
      ]
    },
    {
      "cell_type": "code",
      "metadata": {
        "id": "VaX44WiSAluq"
      },
      "source": [
        "# The problem is that if the value of N is very large, the derivative will be too small.\r\n",
        "# This will cause an issue called vanishing gradients and is will cause poor learning for\r\n",
        "# deep neural networks."
      ],
      "execution_count": null,
      "outputs": []
    },
    {
      "cell_type": "markdown",
      "metadata": {
        "id": "eL6PKfcCAp5L"
      },
      "source": [
        "### Part (g) -- 1 pts\r\n",
        "\r\n",
        "Would we have the same issue as in part(f) we we replaced the sigmoid activation\r\n",
        "with ReLU activations? Why or why not?"
      ]
    },
    {
      "cell_type": "code",
      "metadata": {
        "id": "Oq2fT1TgArWJ"
      },
      "source": [
        "# No the issue will not occur because the derivative of the ReLU will never become small therefore\r\n",
        "# the vanishing gradient will never occur."
      ],
      "execution_count": null,
      "outputs": []
    },
    {
      "cell_type": "markdown",
      "metadata": {
        "id": "gz5HkMPvSwqk"
      },
      "source": [
        "## Question 3. Weight Sharing - Math\n",
        "\n",
        "From this point onward, we will change our architecture to introduce weight sharing.\n",
        "In particular, the input $\\bf{x}$ consists of three one-hot vectors concatenated\n",
        "together. We can think of $\\bf{h}$ as a representation of those three words\n",
        "(all together). However, $\\bf{W^{(1)}}$ needs to learn about the first word\n",
        "separately from the second and third word, when some of the information could\n",
        "be shared. Consider the following architecture:\n",
        "\n",
        "<img src=\"https://www.cs.toronto.edu/~lczhang/321/hw/p2_model2.png\" />\n",
        "\n",
        "Here, we add an extra *embedding* layer to the neural network, where we compute\n",
        "the representation of **each** word before concatenating them together! We use\n",
        "the same weight $\\bf{W}^{(word)}$ for each of the three words:\n",
        "\n",
        "\\begin{align*}\n",
        "\\bf{x_a} &= \\textrm{the one-hot vector for word 1} \\\\\n",
        "\\bf{x_b} &= \\textrm{the one-hot vector for word 2} \\\\\n",
        "\\bf{x_c} &= \\textrm{the one-hot vector for word 3} \\\\\n",
        "\\bf{v_a} &= \\bf{W}^{(word)} \\bf{x_a} \\\\\n",
        "\\bf{v_b} &= \\bf{W}^{(word)} \\bf{x_b} \\\\\n",
        "\\bf{v_c} &= \\bf{W}^{(word)} \\bf{x_c} \\\\\n",
        "\\bf{v} &= \\textrm{concatenation of } \\bf{v_a}, \\bf{v_b}, \\bf{v_c} \\\\\n",
        "\\bf{m} &= \\bf{W^{(1)}} \\bf{v} + \\bf{b^{(1)}} \\\\\n",
        "\\bf{h} &= \\textrm{ReLU}(\\bf{m}) \\\\\n",
        "\\bf{z} &= \\bf{W^{(2)}} \\bf{h} + \\bf{b^{(2)}} \\\\\n",
        "\\bf{y} &= \\textrm{softmax}(\\bf{z}) \\\\\n",
        "\\end{align*}\n",
        "\n",
        "Note that there are no biases in the embedding layer.\n",
        "\n",
        "### Part (a) -- 4 pts\n",
        "\n",
        "Draw a computation graph for $\\bf{y}$. Your graph should include\n",
        "the quantities $\\bf{W}^{(word)}$, $\\bf{W^{(1)}}$, $\\bf{W^{(2)}}$,\n",
        "$\\bf{b^{(1)}}$, $\\bf{b^{(2)}}$,\n",
        "$\\bf{x_a}$,$\\bf{x_b}$, $\\bf{x_c}$,\n",
        "$\\bf{v_a}$,$\\bf{v_b}$, $\\bf{v_c}$, $\\bf{v}$,\n",
        "$\\bf{m}$, $\\bf{h}$, $\\bf{z}$ and $\\bf{y}$."
      ]
    },
    {
      "cell_type": "markdown",
      "metadata": {
        "id": "ExW4E543-56J"
      },
      "source": [
        "![picture](https://drive.google.com/uc?export=view&id=1cFXMVsGCsOWlXRlxDqhAuLIHL-VD7nc3)"
      ]
    },
    {
      "cell_type": "markdown",
      "metadata": {
        "id": "J656o6ffSwql"
      },
      "source": [
        "### Part (b) -- 2 pts\n",
        "\n",
        "Using the computation graph from part (e), use the chain rule to\n",
        "write the quantity $\\frac{\\partial{\\bf y}}{\\partial{\\bf W}^{(word)}}$\n",
        "in terms of derivatives along the edges in the computation graph\n",
        "(e.g. $\\frac{\\partial \\bf{y}}{\\partial {\\bf z}} \\frac{\\partial \\bf{z}}{\\partial {\\bf \\cdot}} \\dots$)\n",
        "\n",
        "You don't need to compute the actual derivatives along the edges\n",
        "for this question.  However, you will need to in Q4(a)."
      ]
    },
    {
      "cell_type": "markdown",
      "metadata": {
        "id": "auuRbe1U6T3S"
      },
      "source": [
        "![picture](https://drive.google.com/uc?export=view&id=12_1Kn3tqfcrHDl8Ui6VP7pa894S6HoAW)"
      ]
    },
    {
      "cell_type": "markdown",
      "metadata": {
        "id": "p4_ZSb8pSwql"
      },
      "source": [
        "## Question 4. NumPy\n",
        "\n",
        "In this question, we will implement the model from Question 3\n",
        "using NumPy.  Start by reviewing these helper functions,\n",
        "which are given to you:"
      ]
    },
    {
      "cell_type": "code",
      "metadata": {
        "id": "LFGrJp9eSwqm"
      },
      "source": [
        "def make_onehot(indicies, total=250):\n",
        "    \"\"\"\n",
        "    Convert indicies into one-hot vectors by\n",
        "        1. Creating an identity matrix of shape [total, total]\n",
        "        2. Indexing the appropriate columns of that identity matrix\n",
        "    \"\"\"\n",
        "    I = np.eye(total)\n",
        "    return I[indicies]\n",
        "\n",
        "def softmax(x):\n",
        "    \"\"\"\n",
        "    Compute the softmax of vector x, or row-wise for a matrix x.\n",
        "    We subtract x.max(axis=0) from each row for numerical stability.\n",
        "    \"\"\"\n",
        "    x = x.T\n",
        "    exps = np.exp(x - x.max(axis=0))\n",
        "    probs = exps / np.sum(exps, axis=0)\n",
        "    return probs.T\n",
        "\n",
        "def get_batch(data, range_min, range_max, onehot=True):\n",
        "    \"\"\"\n",
        "    Convert one batch of data in the form of 4-grams into input and output\n",
        "    data and return the training data (xs, ts) where:\n",
        "     - `xs` is an numpy array of one-hot vectors of shape [batch_size, 3, 250]\n",
        "     - `ts` is either\n",
        "            - a numpy array of shape [batch_size, 250] if onehot is True,\n",
        "            - a numpy array of shape [batch_size] containing indicies otherwise\n",
        "\n",
        "    Preconditions:\n",
        "     - `data` is a numpy array of shape [N, 4] produced by a call\n",
        "        to `process_data`\n",
        "     - range_max > range_min\n",
        "    \"\"\"\n",
        "    xs = data[range_min:range_max, :3]\n",
        "    xs = make_onehot(xs)\n",
        "    ts = data[range_min:range_max, 3]\n",
        "    if onehot:\n",
        "        ts = make_onehot(ts).reshape(-1, 250)\n",
        "    return xs, ts\n",
        "\n",
        "def estimate_accuracy(model, data, batch_size=5000, max_N=100000):\n",
        "    \"\"\"\n",
        "    Estimate the accuracy of the model on the data. To reduce\n",
        "    computation time, use at most `max_N` elements of `data` to\n",
        "    produce the estimate.\n",
        "    \"\"\"\n",
        "    correct = 0\n",
        "    N = 0\n",
        "    for i in range(0, data.shape[0], batch_size):\n",
        "        xs, ts = get_batch(data, i, i + batch_size, onehot=False)\n",
        "        z = model(xs)\n",
        "        pred = np.argmax(z, axis=1)\n",
        "        correct += np.sum(ts == pred)\n",
        "        N += ts.shape[0]\n",
        "\n",
        "        if N > max_N:\n",
        "            break\n",
        "    return correct / N"
      ],
      "execution_count": 47,
      "outputs": []
    },
    {
      "cell_type": "markdown",
      "metadata": {
        "id": "0IdBq_GtSwqm"
      },
      "source": [
        "### Part (a) -- 8 point\n",
        "\n",
        "Your first task is to implement the model from Question 3 in NumPy.\n",
        "We will represent the model as a Python class. We set up the \n",
        "class methods and APIs to be similar to that of PyTorch, so that you\n",
        "have some intuition about what PyTorch is doing under the hood.\n",
        "Here's what you need to do:\n",
        "\n",
        "1. in the `__init__` method, initialize the weights and biases to have the correct shapes. You may want to look back at your answers in the previous question. (0 points)\n",
        "2. complete the `forward` method to compute the predictions given a **batch** of inputs. This function will also store the intermediate values obtained in the computation; we will need these values for gradient descent. (3 points)\n",
        "3. complete the `backward` method to compute the gradients of the loss with respect to the weights and biases. (4 points)\n",
        "4. complete the `update` method that uses the stored gradients to update the weights and biases. (1 point)"
      ]
    },
    {
      "cell_type": "code",
      "metadata": {
        "id": "OxFJKNSeSwqm"
      },
      "source": [
        "class NumpyWordEmbModel(object):\n",
        "    def __init__(self, vocab_size=250, emb_size=100, num_hidden=100):\n",
        "        \"\"\"\n",
        "        Initialize the weights and biases to zero. Update this method\n",
        "        so that weights and baises have the correct shape.\n",
        "        \"\"\"\n",
        "        TODO = 0\n",
        "        self.vocab_size = vocab_size\n",
        "        self.emb_size = emb_size\n",
        "        self.num_hidden = num_hidden\n",
        "        self.emb_weights = np.zeros([emb_size, vocab_size]) # W^{(word)}\n",
        "        self.weights1 = np.zeros([num_hidden, 3 * emb_size])    # W^{(1)}\n",
        "        self.bias1 = np.zeros([num_hidden])             # b^{(1)}\n",
        "        self.weights2 = np.zeros([vocab_size, num_hidden])    # W^{(2)}\n",
        "        self.bias2 = np.zeros([vocab_size])             # b^{(2)}\n",
        "        self.cleanup()\n",
        "\n",
        "    def initializeParams(self):\n",
        "        \"\"\"\n",
        "        Randomly initialize the weights and biases of this two-layer MLP.\n",
        "        The randomization is necessary so that each weight is updated to\n",
        "        a different value.\n",
        "\n",
        "        You do not need to change this method.\n",
        "        \"\"\"\n",
        "        self.emb_weights = np.random.normal(0, 2/self.emb_size, self.emb_weights.shape)\n",
        "        self.weights1 = np.random.normal(0, 2/self.emb_size, self.weights1.shape)\n",
        "        self.bias1 = np.random.normal(0, 2/self.emb_size, self.bias1.shape)\n",
        "        self.weights2 = np.random.normal(0, 2/self.num_hidden, self.weights2.shape)\n",
        "        self.bias2 = np.random.normal(0, 2/self.num_hidden, self.bias2.shape)\n",
        "\n",
        "    def forward(self, inputs):\n",
        "        \"\"\"\n",
        "        Compute the forward pass prediction for inputs.\n",
        "\n",
        "        Note that for vectorization, `inputs` will be a rank-3 numpy array\n",
        "        with shape [N, 3, vocab_size], where N is the batch size.\n",
        "        The returned value will contain the predictions for the N\n",
        "        data points in the batch, so the return value shape should be\n",
        "        [N, something].\n",
        "\n",
        "        You should refer to the mathematical expressions we provided in Q3\n",
        "        when completing this method. However, because we are computing\n",
        "        forward pass for a batch of data at a time, you may need to rearrange\n",
        "        some computation (e.g. some matrix-vector multiplication will become\n",
        "        matrix-matrix multiplications, and you'll need to be careful about\n",
        "        arranging the dimensions of your matrices.)\n",
        "\n",
        "        For numerical stability reasons, we will return the **logit z**\n",
        "        instead of the **probability y**. The loss function assumes that \n",
        "        we return the logits from this function.\n",
        "\n",
        "        After writing this function, you might want to check that your code\n",
        "        runs before continuing, e.g. try\n",
        "\n",
        "            xs, ts = get_batch(train4grams, 0, 8, onehot=True)\n",
        "            m = NumpyWordEmbModel()\n",
        "            m.forward(xs)\n",
        "        \"\"\"\n",
        "        self.N = inputs.shape[0]\n",
        "        self.xa = inputs[:, 0, :] # todo\n",
        "        self.xb = inputs[:, 1, :] # todo\n",
        "        self.xc = inputs[:, 2, :] # todo\n",
        "        self.va = np.matmul(self.xa, self.emb_weights.T) # todo\n",
        "        self.vb = np.matmul(self.xb, self.emb_weights.T) # todo\n",
        "        self.vc = np.matmul(self.xc, self.emb_weights.T) # todo\n",
        "        self.v = np.concatenate((self.va,self.vb,self.vc), axis=1) # todo\n",
        "        self.m = np.matmul(self.v, self.weights1.T) + self.bias1 # todo\n",
        "        self.h = np.maximum(np.zeros_like(self.m),self.m) # todo\n",
        "        self.z = np.matmul(self.h, self.weights2.T) + self.bias2 # todo\n",
        "        self.y = softmax(self.z)\n",
        "        return self.y\n",
        "\n",
        "    def __call__(self, inputs):\n",
        "        \"\"\"\n",
        "        This function is here so that if you call the object like a function,\n",
        "        the `backward` method will get called. For example, if we have\n",
        "            m = NumpyWordEmbModel()\n",
        "        Calling `m(foo)` is equivalent to calling `m.forward(foo)`.\n",
        "\n",
        "        You do not need to change this method.\n",
        "        \"\"\"\n",
        "        return self.forward(inputs)\n",
        "\n",
        "    def backward(self, ts):\n",
        "        \"\"\"\n",
        "        Compute the backward pass, given the ground-truth, one-hot targets.\n",
        "        Note that `ts` needs to be a numpy array with shape [N, vocab_size].\n",
        "        Complete this method. You might want to refer to your answers to Q2\n",
        "        and Q3. But be careful: we are computing the backward pass for an\n",
        "        entire batch of data at a time! Carefully track the dimensions of your\n",
        "        quantities!\n",
        "\n",
        "        You may assume that the forward() method has already been called, so\n",
        "        you can access values like self.N, self.y, etc..\n",
        "\n",
        "        This function needs to be called before calling the update() method.\n",
        "        \"\"\"\n",
        "        z_bar = (self.y - ts) / self.N\n",
        "        self.w2_bar = np.dot(z_bar.T, self.h) # todo, compute gradient for W^{(2)}\n",
        "        self.b2_bar = np.dot(z_bar.T, np.ones(self.N)) # todo, compute gradient for b^{(2)}\n",
        "        h_bar = np.matmul(z_bar, self.weights2) # todo\n",
        "        m_bar = h_bar * (self.m > 0) # todo\n",
        "        self.w1_bar = np.dot(m_bar.T, self.v) # todo\n",
        "        self.b1_bar = np.dot(m_bar.T, np.ones(self.N)) # todo\n",
        "        v_bar = np.matmul(m_bar, self.weights1)\n",
        "        va_bar = np.dot(v_bar.T[:100, :], self.xa)\n",
        "        vb_bar = np.dot(v_bar.T[100:200, :], self.xb)\n",
        "        vc_bar = np.dot(v_bar.T[200:, :], self.xc)\n",
        "        self.emb_bar = va_bar + vb_bar + vc_bar # todo, compute gradient for W^{(word)}\n",
        "\n",
        "    def update(self, alpha):\n",
        "        \"\"\"\n",
        "        Compute the gradient descent update for the parameters.\n",
        "        Complete this method. Use `alpha` as the learning rate.\n",
        "\n",
        "        You can assume that the forward() and backward() methods have already\n",
        "        been called, so you can access values like self.w1_bar.\n",
        "        \"\"\"\n",
        "        self.weights1 = self.weights1 - alpha * self.w1_bar\n",
        "        self.bias1 = self.bias1 - alpha * self.b1_bar\n",
        "        self.weights2 = self.weights2 - alpha * self.w2_bar\n",
        "        self.bias2 = self.bias2 - alpha * self.b2_bar\n",
        "        self.emb_weights = self.emb_weights - alpha * self.emb_bar\n",
        "\n",
        "    def cleanup(self):\n",
        "        \"\"\"\n",
        "        Erase the values of the variables that we use in our computation.\n",
        "       \n",
        "        You do not need to change this method.\n",
        "        \"\"\"\n",
        "        self.N = None\n",
        "        self.xa = None\n",
        "        self.xb = None\n",
        "        self.xc = None\n",
        "        self.va = None\n",
        "        self.vb = None\n",
        "        self.vc = None\n",
        "        self.v = None\n",
        "        self.m = None\n",
        "        self.h = None\n",
        "        self.z = None\n",
        "        self.y = None\n",
        "        self.z_bar = None\n",
        "        self.w2_bar = None\n",
        "        self.b2_bar = None\n",
        "        self.w1_bar = None\n",
        "        self.b1_bar = None\n",
        "        self.emb_bar = None"
      ],
      "execution_count": 48,
      "outputs": []
    },
    {
      "cell_type": "markdown",
      "metadata": {
        "id": "TVL1FUBwSwqm"
      },
      "source": [
        "### Part (b) -- 2 points\n",
        "\n",
        "Complete the `run_gradient_descent` function. Train your numpy model\n",
        "to obtain a training accuracy of at least 25%. You do not need to train\n",
        "this model to convergence, but you do need to clearly show\n",
        "that your model reached at least 25% training accuracy."
      ]
    },
    {
      "cell_type": "code",
      "metadata": {
        "id": "yj9vqOoiSwqm",
        "colab": {
          "base_uri": "https://localhost:8080/",
          "height": 0
        },
        "outputId": "096ece11-e157-427c-c703-3e35ca297a1f"
      },
      "source": [
        "def run_gradient_descent(model,\n",
        "                         train_data=train4grams,\n",
        "                         validation_data=valid4grams,\n",
        "                         batch_size=100,\n",
        "                         learning_rate=0.1,\n",
        "                         max_iters=5000):\n",
        "    \"\"\"\n",
        "    Use gradient descent to train the numpy model on the dataset train4grams.\n",
        "    \"\"\"\n",
        "    n = 0\n",
        "    while n < max_iters:\n",
        "        # shuffle the training data, and break early if we don't have\n",
        "        # enough data to remaining in the batch\n",
        "        np.random.shuffle(train_data)\n",
        "        for i in range(0, train_data.shape[0], batch_size):\n",
        "            if (i + batch_size) > train_data.shape[0]:\n",
        "                break\n",
        "\n",
        "            # get the input and targets of a minibatch\n",
        "            xs, ts = get_batch(train_data, i, i + batch_size, onehot=True)\n",
        "\n",
        "            # erase any accumulated gradients\n",
        "            model.cleanup()\n",
        "\n",
        "            # forward pass: compute prediction\n",
        "            y = model.forward(xs)\n",
        "\n",
        "            # TODO: add your code here\n",
        "\n",
        "            # backward pass: compute error \n",
        "            model.backward(ts)\n",
        "            model.update(learning_rate)\n",
        "            model.cleanup()\n",
        "\n",
        "            # increment the iteration count\n",
        "            n += 1\n",
        "\n",
        "            # compute and plot the *validation* loss and accuracy\n",
        "            if (n % 100 == 0):\n",
        "                train_cost = -np.sum(ts * np.log(y)) / batch_size\n",
        "                train_acc = estimate_accuracy(model, train_data)\n",
        "                val_acc = estimate_accuracy(model, validation_data)\n",
        "                model.cleanup()\n",
        "                print(\"Iter %d. [Val Acc %.0f%%] [Train Acc %.0f%%, Loss %f]\" % (\n",
        "                      n, val_acc * 100, train_acc * 100, train_cost))\n",
        "\n",
        "        if n >= max_iters:\n",
        "            return\n",
        "\n",
        "\n",
        "numpy_model= NumpyWordEmbModel()\n",
        "numpy_model.initializeParams()\n",
        "run_gradient_descent(numpy_model, max_iters=5000)"
      ],
      "execution_count": 37,
      "outputs": [
        {
          "output_type": "stream",
          "text": [
            "Iter 100. [Val Acc 17%] [Train Acc 17%, Loss 5.016580]\n",
            "Iter 200. [Val Acc 17%] [Train Acc 17%, Loss 4.794132]\n",
            "Iter 300. [Val Acc 17%] [Train Acc 17%, Loss 4.802343]\n",
            "Iter 400. [Val Acc 17%] [Train Acc 17%, Loss 4.648571]\n",
            "Iter 500. [Val Acc 17%] [Train Acc 17%, Loss 4.125644]\n",
            "Iter 600. [Val Acc 17%] [Train Acc 17%, Loss 4.134703]\n",
            "Iter 700. [Val Acc 17%] [Train Acc 17%, Loss 4.114157]\n",
            "Iter 800. [Val Acc 17%] [Train Acc 17%, Loss 4.216607]\n",
            "Iter 900. [Val Acc 17%] [Train Acc 17%, Loss 4.559055]\n",
            "Iter 1000. [Val Acc 17%] [Train Acc 17%, Loss 4.395618]\n",
            "Iter 1100. [Val Acc 17%] [Train Acc 17%, Loss 4.360966]\n",
            "Iter 1200. [Val Acc 17%] [Train Acc 17%, Loss 4.506414]\n",
            "Iter 1300. [Val Acc 17%] [Train Acc 17%, Loss 4.397461]\n",
            "Iter 1400. [Val Acc 17%] [Train Acc 17%, Loss 4.231537]\n",
            "Iter 1500. [Val Acc 17%] [Train Acc 17%, Loss 4.234883]\n",
            "Iter 1600. [Val Acc 17%] [Train Acc 17%, Loss 4.286784]\n",
            "Iter 1700. [Val Acc 17%] [Train Acc 17%, Loss 4.185975]\n",
            "Iter 1800. [Val Acc 17%] [Train Acc 17%, Loss 4.271078]\n",
            "Iter 1900. [Val Acc 17%] [Train Acc 17%, Loss 4.436372]\n",
            "Iter 2000. [Val Acc 18%] [Train Acc 19%, Loss 3.962985]\n",
            "Iter 2100. [Val Acc 20%] [Train Acc 20%, Loss 4.074733]\n",
            "Iter 2200. [Val Acc 21%] [Train Acc 21%, Loss 4.251006]\n",
            "Iter 2300. [Val Acc 20%] [Train Acc 20%, Loss 4.350832]\n",
            "Iter 2400. [Val Acc 21%] [Train Acc 21%, Loss 4.327484]\n",
            "Iter 2500. [Val Acc 21%] [Train Acc 21%, Loss 3.899987]\n",
            "Iter 2600. [Val Acc 20%] [Train Acc 20%, Loss 3.821297]\n",
            "Iter 2700. [Val Acc 20%] [Train Acc 20%, Loss 3.858804]\n",
            "Iter 2800. [Val Acc 21%] [Train Acc 21%, Loss 3.997433]\n",
            "Iter 2900. [Val Acc 21%] [Train Acc 21%, Loss 4.098981]\n",
            "Iter 3000. [Val Acc 20%] [Train Acc 20%, Loss 4.066665]\n",
            "Iter 3100. [Val Acc 21%] [Train Acc 21%, Loss 3.805225]\n",
            "Iter 3200. [Val Acc 21%] [Train Acc 21%, Loss 4.114446]\n",
            "Iter 3300. [Val Acc 21%] [Train Acc 21%, Loss 4.117909]\n",
            "Iter 3400. [Val Acc 21%] [Train Acc 21%, Loss 4.072081]\n",
            "Iter 3500. [Val Acc 21%] [Train Acc 21%, Loss 3.752302]\n",
            "Iter 3600. [Val Acc 21%] [Train Acc 21%, Loss 3.958303]\n",
            "Iter 3700. [Val Acc 21%] [Train Acc 22%, Loss 3.981402]\n",
            "Iter 3800. [Val Acc 22%] [Train Acc 22%, Loss 3.823794]\n",
            "Iter 3900. [Val Acc 22%] [Train Acc 22%, Loss 4.022111]\n",
            "Iter 4000. [Val Acc 23%] [Train Acc 23%, Loss 4.044106]\n",
            "Iter 4100. [Val Acc 23%] [Train Acc 23%, Loss 3.741684]\n",
            "Iter 4200. [Val Acc 23%] [Train Acc 24%, Loss 4.124901]\n",
            "Iter 4300. [Val Acc 24%] [Train Acc 24%, Loss 3.852948]\n",
            "Iter 4400. [Val Acc 24%] [Train Acc 24%, Loss 3.468126]\n",
            "Iter 4500. [Val Acc 25%] [Train Acc 25%, Loss 3.892225]\n",
            "Iter 4600. [Val Acc 24%] [Train Acc 25%, Loss 3.643017]\n",
            "Iter 4700. [Val Acc 25%] [Train Acc 25%, Loss 3.803375]\n",
            "Iter 4800. [Val Acc 25%] [Train Acc 26%, Loss 3.297489]\n",
            "Iter 4900. [Val Acc 25%] [Train Acc 26%, Loss 3.723287]\n",
            "Iter 5000. [Val Acc 25%] [Train Acc 26%, Loss 3.350643]\n",
            "Iter 5100. [Val Acc 25%] [Train Acc 26%, Loss 3.574870]\n",
            "Iter 5200. [Val Acc 26%] [Train Acc 26%, Loss 3.082283]\n",
            "Iter 5300. [Val Acc 26%] [Train Acc 26%, Loss 3.495400]\n",
            "Iter 5400. [Val Acc 26%] [Train Acc 26%, Loss 3.330574]\n",
            "Iter 5500. [Val Acc 26%] [Train Acc 26%, Loss 3.392580]\n",
            "Iter 5600. [Val Acc 26%] [Train Acc 26%, Loss 3.118259]\n",
            "Iter 5700. [Val Acc 26%] [Train Acc 27%, Loss 3.727802]\n",
            "Iter 5800. [Val Acc 26%] [Train Acc 27%, Loss 3.102591]\n",
            "Iter 5900. [Val Acc 26%] [Train Acc 27%, Loss 3.123369]\n",
            "Iter 6000. [Val Acc 26%] [Train Acc 27%, Loss 3.464272]\n",
            "Iter 6100. [Val Acc 26%] [Train Acc 27%, Loss 3.565401]\n",
            "Iter 6200. [Val Acc 26%] [Train Acc 27%, Loss 3.110454]\n",
            "Iter 6300. [Val Acc 26%] [Train Acc 27%, Loss 3.331146]\n",
            "Iter 6400. [Val Acc 27%] [Train Acc 27%, Loss 3.629430]\n",
            "Iter 6500. [Val Acc 27%] [Train Acc 27%, Loss 3.733608]\n",
            "Iter 6600. [Val Acc 26%] [Train Acc 27%, Loss 3.362645]\n",
            "Iter 6700. [Val Acc 27%] [Train Acc 27%, Loss 3.016029]\n",
            "Iter 6800. [Val Acc 27%] [Train Acc 27%, Loss 3.605564]\n",
            "Iter 6900. [Val Acc 27%] [Train Acc 27%, Loss 3.492292]\n",
            "Iter 7000. [Val Acc 27%] [Train Acc 27%, Loss 3.285472]\n",
            "Iter 7100. [Val Acc 27%] [Train Acc 28%, Loss 3.003150]\n",
            "Iter 7200. [Val Acc 27%] [Train Acc 28%, Loss 2.776011]\n",
            "Iter 7300. [Val Acc 27%] [Train Acc 27%, Loss 3.446432]\n"
          ],
          "name": "stdout"
        }
      ]
    },
    {
      "cell_type": "markdown",
      "metadata": {
        "id": "lLAagTAnSwqm"
      },
      "source": [
        "### Part (c) -- 2 pts\n",
        "\n",
        "If we do not call `numpy_model.initializeParams()`, your model weights will\n",
        "not change. Clearly explain (mathematically) why this is the case."
      ]
    },
    {
      "cell_type": "code",
      "metadata": {
        "id": "KPSwjSS5Swqn"
      },
      "source": [
        "# Your answer goes here\r\n",
        "# The gradient will be 0 which is caused by the saddle point when we take the weights with respect to the loss function.\r\n",
        "# When back propagation happens, the weights will not get updated properly and remain the same every iteration. Mathematically\r\n",
        "# we can show that w1 = w1 - (alpha * 0) = w1 - 0 = w1 because the gradient is equal to 0."
      ],
      "execution_count": null,
      "outputs": []
    },
    {
      "cell_type": "markdown",
      "metadata": {
        "id": "3R2I6q4OSwqn"
      },
      "source": [
        "### Part (d) -- 2 pts\n",
        "\n",
        "The `estimate_accuracy` function takes the continuous predictions `z`\n",
        "and turns it into a discrete prediction `pred`. Show that for a given\n",
        "data point, `pred` is equal to 1 only if the predictive probability `y`\n",
        "is at least 0.5.\n",
        "\n",
        "CORRECTION FEB 1ST:\n",
        "The `estimate_accuracy` function takes the continuous predictions `z`\n",
        "and turns it into a discrete prediction `pred`. Show (mathematically) that for a\n",
        "given data point, the maximum column of `z` is the same as the maximum\n",
        "column of `softmax(z)`."
      ]
    },
    {
      "cell_type": "markdown",
      "metadata": {
        "id": "UZEvQxu88l2e"
      },
      "source": [
        "![picture](https://drive.google.com/uc?export=view&id=1DRsFV6kBw8weud0rTP0zTA304EwkZ8MQ)"
      ]
    },
    {
      "cell_type": "markdown",
      "metadata": {
        "id": "DyKjiOJkSwqn"
      },
      "source": [
        "## Question 5. PyTorch\n",
        "\n",
        "Now, we will build the same model in PyTorch.\n",
        "\n",
        "### Part (a) -- 2 pts\n",
        "\n",
        "Since PyTorch uses\n",
        "automatic differentiation, we only need to write the *forward pass* of our\n",
        "model. Complete the `__init__` and `forward` methods below.\n",
        "\n",
        "Hint: You might want to look up the `reshape` method in PyTorch."
      ]
    },
    {
      "cell_type": "code",
      "metadata": {
        "id": "uGkdYjjtSwqn"
      },
      "source": [
        "class PyTorchWordEmb(nn.Module):\n",
        "    def __init__(self, emb_size=100, num_hidden=300, vocab_size=250):\n",
        "        super(PyTorchWordEmb, self).__init__()\n",
        "        TODO = 0\n",
        "        self.word_emb_layer = nn.Linear(vocab_size,      # num input W^(word)\n",
        "                                        emb_size,      # num output W^(word)\n",
        "                                        bias=False)\n",
        "        self.fc_layer1 = nn.Linear(3 * emb_size, # num input W^(1)\n",
        "                                   num_hidden) # num output W^(1)\n",
        "        self.fc_layer2 = nn.Linear(num_hidden, # num input W^(2)\n",
        "                                   vocab_size) # num output W^(2)\n",
        "        self.num_hidden = num_hidden\n",
        "        self.emb_size = emb_size\n",
        "\n",
        "    def forward(self, inp):\n",
        "        vs = self.word_emb_layer(inp)\n",
        "        v = torch.reshape(vs, (-1, self.num_hidden)) # TODO: what do you need to do here?\n",
        "        m = self.fc_layer1(v)\n",
        "        h = torch.relu(m)\n",
        "        z = self.fc_layer2(h) # TODO: what do you need to do here?\n",
        "        return z"
      ],
      "execution_count": null,
      "outputs": []
    },
    {
      "cell_type": "markdown",
      "metadata": {
        "id": "qnYe_AzhSwqn"
      },
      "source": [
        "### Part (b) -- 2 pts\n",
        "\n",
        "The function `run_pytorch_gradient_descent` is given to you. It is similar\n",
        "to the code that you wrote fro the PyTorch model, with a few differences:\n",
        "\n",
        "1. We will use a slightly fancier optimizer called **Adam**. For this optimizer,\n",
        "   a smaller learning rate usually works better, so the default learning\n",
        "   rate is set to 0.001.\n",
        "2. Since we get weight decay for free, you are welcome to use weight decay.\n",
        "\n",
        "\n",
        "Use this function and train your PyTorch model to obtain a training\n",
        "accuracy of at least 37%.  Plot the learning curve using the `plot_learning_curve`\n",
        "function provided to you, and include your plot in your PDF submission."
      ]
    },
    {
      "cell_type": "code",
      "metadata": {
        "id": "cIkx2WzOSwqn"
      },
      "source": [
        "def estimate_accuracy_torch(model, data, batch_size=5000, max_N=100000):\n",
        "    \"\"\"\n",
        "    Estimate the accuracy of the model on the data. To reduce\n",
        "    computation time, use at most `max_N` elements of `data` to\n",
        "    produce the estimate.\n",
        "    \"\"\"\n",
        "    correct = 0\n",
        "    N = 0\n",
        "    for i in range(0, data.shape[0], batch_size):\n",
        "        # get a batch of data\n",
        "        xs, ts = get_batch(data, i, i + batch_size, onehot=False)\n",
        "        \n",
        "        # forward pass prediction\n",
        "        z = model(torch.Tensor(xs))\n",
        "        z = z.detach().numpy() # convert the PyTorch tensor => numpy array\n",
        "        pred = np.argmax(z, axis=1)\n",
        "        correct += np.sum(pred == ts)\n",
        "        N += ts.shape[0]\n",
        "\n",
        "        if N > max_N:\n",
        "            break\n",
        "    return correct / N\n",
        "\n",
        "def run_pytorch_gradient_descent(model,\n",
        "                                 train_data=train4grams,\n",
        "                                 validation_data=valid4grams,\n",
        "                                 batch_size=100,\n",
        "                                 learning_rate=0.001,\n",
        "                                 weight_decay=0,\n",
        "                                 max_iters=1000,\n",
        "                                 checkpoint_path=None):\n",
        "    \"\"\"\n",
        "    Train the PyTorch model on the dataset `train_data`, reporting\n",
        "    the validation accuracy on `validation_data`, for `max_iters`\n",
        "    iteration.\n",
        "\n",
        "    If you want to **checkpoint** your model weights (i.e. save the\n",
        "    model weights to Google Drive), then the parameter\n",
        "    `checkpoint_path` should be a string path with `{}` to be replaced\n",
        "    by the iteration count:\n",
        "\n",
        "    For example, calling \n",
        "\n",
        "    >>> run_pytorch_gradient_descent(model, ...,\n",
        "            checkpoint_path = '/content/gdrive/My Drive/CSC413/mlp/ckpt-{}.pk')\n",
        "\n",
        "    will save the model parameters in Google Drive every 500 iterations.\n",
        "    You will have to make sure that the path exists (i.e. you'll need to create\n",
        "    the folder CSC413, mlp, etc...). Your Google Drive will be populated with files:\n",
        "\n",
        "    - /content/gdrive/My Drive/CSC413/mlp/ckpt-500.pk\n",
        "    - /content/gdrive/My Drive/CSC413/mlp/ckpt-1000.pk\n",
        "    - ...\n",
        "\n",
        "    To load the weights at a later time, you can run:\n",
        "\n",
        "    >>> model.load_state_dict(torch.load('/content/gdrive/My Drive/CSC413/mlp/ckpt-500.pk'))\n",
        "\n",
        "    This function returns the training loss, and the training/validation accuracy,\n",
        "    which we can use to plot the learning curve.\n",
        "    \"\"\"\n",
        "    criterion = nn.CrossEntropyLoss()\n",
        "    optimizer = optim.Adam(model.parameters(),\n",
        "                           lr=learning_rate,\n",
        "                           weight_decay=weight_decay)\n",
        "\n",
        "    iters, losses = [], []\n",
        "    iters_sub, train_accs, val_accs  = [], [] ,[]\n",
        "\n",
        "    n = 0 # the number of iterations\n",
        "    while True:\n",
        "        for i in range(0, train_data.shape[0], batch_size):\n",
        "            if (i + batch_size) > train_data.shape[0]:\n",
        "                break\n",
        "\n",
        "            # get the input and targets of a minibatch\n",
        "            xs, ts = get_batch(train_data, i, i + batch_size, onehot=False)\n",
        "\n",
        "            # convert from numpy arrays to PyTorch tensors\n",
        "            xs = torch.Tensor(xs)\n",
        "            ts = torch.Tensor(ts).long()\n",
        "\n",
        "            zs = model(xs)\n",
        "            loss = criterion(zs, ts) # compute the total loss\n",
        "            loss.backward()          # compute updates for each parameter\n",
        "            optimizer.step()         # make the updates for each parameter\n",
        "            optimizer.zero_grad()    # a clean up step for PyTorch\n",
        "\n",
        "            # save the current training information\n",
        "            iters.append(n)\n",
        "            losses.append(float(loss)/batch_size)  # compute *average* loss\n",
        "\n",
        "            if n % 500 == 0:\n",
        "                iters_sub.append(n)\n",
        "                train_cost = float(loss.detach().numpy())\n",
        "                train_acc = estimate_accuracy_torch(model, train_data)\n",
        "                train_accs.append(train_acc)\n",
        "                val_acc = estimate_accuracy_torch(model, validation_data)\n",
        "                val_accs.append(val_acc)\n",
        "                print(\"Iter %d. [Val Acc %.0f%%] [Train Acc %.0f%%, Loss %f]\" % (\n",
        "                      n, val_acc * 100, train_acc * 100, train_cost))\n",
        "\n",
        "                if (checkpoint_path is not None) and n > 0:\n",
        "                    torch.save(model.state_dict(), checkpoint_path.format(n))\n",
        "\n",
        "            # increment the iteration number\n",
        "            n += 1\n",
        "\n",
        "            if n > max_iters:\n",
        "                return iters, losses, iters_sub, train_accs, val_accs\n",
        "\n",
        "\n",
        "def plot_learning_curve(iters, losses, iters_sub, train_accs, val_accs):\n",
        "    \"\"\"\n",
        "    Plot the learning curve.\n",
        "    \"\"\"\n",
        "    plt.title(\"Learning Curve: Loss per Iteration\")\n",
        "    plt.plot(iters, losses, label=\"Train\")\n",
        "    plt.xlabel(\"Iterations\")\n",
        "    plt.ylabel(\"Loss\")\n",
        "    plt.show()\n",
        "\n",
        "    plt.title(\"Learning Curve: Accuracy per Iteration\")\n",
        "    plt.plot(iters_sub, train_accs, label=\"Train\")\n",
        "    plt.plot(iters_sub, val_accs, label=\"Validation\")\n",
        "    plt.xlabel(\"Iterations\")\n",
        "    plt.ylabel(\"Accuracy\")\n",
        "    plt.legend(loc='best')\n",
        "    plt.show()"
      ],
      "execution_count": null,
      "outputs": []
    },
    {
      "cell_type": "code",
      "metadata": {
        "id": "_erkWLgDSwqn",
        "colab": {
          "base_uri": "https://localhost:8080/",
          "height": 896
        },
        "outputId": "ae82d3f0-a2b3-4920-9c0e-0e9e82054e0a"
      },
      "source": [
        "pytorch_model = PyTorchWordEmb()\n",
        "learning_curve_info = run_pytorch_gradient_descent(pytorch_model, max_iters=9000)\n",
        "\n",
        "# you might want to save the `learning_curve_info` somewhere, so that you can plot\n",
        "# the learning curve prior to exporting your PDF file\n",
        "\n",
        "plot_learning_curve(*learning_curve_info)"
      ],
      "execution_count": null,
      "outputs": [
        {
          "output_type": "stream",
          "text": [
            "Iter 0. [Val Acc 0%] [Train Acc 0%, Loss 5.517438]\n",
            "Iter 500. [Val Acc 28%] [Train Acc 29%, Loss 3.163873]\n",
            "Iter 1000. [Val Acc 30%] [Train Acc 31%, Loss 2.911472]\n",
            "Iter 1500. [Val Acc 32%] [Train Acc 33%, Loss 3.038274]\n",
            "Iter 2000. [Val Acc 33%] [Train Acc 33%, Loss 2.798192]\n",
            "Iter 2500. [Val Acc 33%] [Train Acc 34%, Loss 2.594519]\n",
            "Iter 3000. [Val Acc 34%] [Train Acc 34%, Loss 2.846265]\n",
            "Iter 3500. [Val Acc 34%] [Train Acc 35%, Loss 2.886271]\n",
            "Iter 4000. [Val Acc 34%] [Train Acc 36%, Loss 2.519231]\n",
            "Iter 4500. [Val Acc 35%] [Train Acc 37%, Loss 2.515276]\n",
            "Iter 5000. [Val Acc 35%] [Train Acc 36%, Loss 2.662256]\n",
            "Iter 5500. [Val Acc 36%] [Train Acc 36%, Loss 2.687818]\n",
            "Iter 6000. [Val Acc 36%] [Train Acc 36%, Loss 2.767042]\n",
            "Iter 6500. [Val Acc 36%] [Train Acc 37%, Loss 2.535760]\n",
            "Iter 7000. [Val Acc 36%] [Train Acc 37%, Loss 2.384735]\n",
            "Iter 7500. [Val Acc 36%] [Train Acc 37%, Loss 2.608358]\n",
            "Iter 8000. [Val Acc 36%] [Train Acc 38%, Loss 2.587498]\n",
            "Iter 8500. [Val Acc 36%] [Train Acc 38%, Loss 2.494058]\n",
            "Iter 9000. [Val Acc 36%] [Train Acc 38%, Loss 2.741450]\n"
          ],
          "name": "stdout"
        },
        {
          "output_type": "display_data",
          "data": {
            "image/png": "[encoded data removed]",
            "text/plain": [
              "<Figure size 432x288 with 1 Axes>"
            ]
          },
          "metadata": {
            "tags": [],
            "needs_background": "light"
          }
        },
        {
          "output_type": "display_data",
          "data": {
            "image/png": "[encoded data removed]",
            "text/plain": [
              "<Figure size 432x288 with 1 Axes>"
            ]
          },
          "metadata": {
            "tags": [],
            "needs_background": "light"
          }
        }
      ]
    },
    {
      "cell_type": "markdown",
      "metadata": {
        "id": "0ELK-AsSSwqn"
      },
      "source": [
        "### Part (c) -- 3 points\n",
        "\n",
        "Write a function `make_prediction` that takes as parameters\n",
        "a PyTorchWordEmb model and sentence (a list of words), and produces\n",
        "a prediction for the next word in the sentence.\n",
        "\n",
        "Start by thinking about what you need to do, step by step, taking\n",
        "care of the difference between a numpy array and a PyTorch Tensor."
      ]
    },
    {
      "cell_type": "code",
      "metadata": {
        "id": "l6LSrSapSwqo"
      },
      "source": [
        "def make_prediction_torch(model, sentence):\n",
        "    \"\"\"\n",
        "    Use the model to make a prediction for the next word in the\n",
        "    sentence using the last 3 words (sentence[:-3]). You may assume\n",
        "    that len(sentence) >= 3 and that `model` is an instance of\n",
        "    PyTorchWordEmb. You might find the function torch.argmax helpful.\n",
        "\n",
        "    This function should return the next word, represented as a string.\n",
        "\n",
        "    Example call:\n",
        "    >>> make_prediction_torch(pytorch_model, ['you', 'are', 'a'])\n",
        "    \"\"\"\n",
        "    global vocab_stoi, vocab_itos\n",
        "\n",
        "    s = []\n",
        "    for word in sentence:\n",
        "      s.append(vocab_stoi[word])\n",
        "      \n",
        "    xs = make_onehot(s)\n",
        "    y = model(torch.Tensor(xs))\n",
        "    y = y.detach().numpy()\n",
        "    pred = np.argmax(y, axis=1)\n",
        "    wordpred = vocab_itos[pred[0]]\n",
        "    return wordpred"
      ],
      "execution_count": null,
      "outputs": []
    },
    {
      "cell_type": "markdown",
      "metadata": {
        "id": "dY5QeSWfSwqo"
      },
      "source": [
        "### Part (d) -- 4 points\n",
        "\n",
        "Use your code to predict what the next word should be in each\n",
        "of the following sentences:\n",
        "\n",
        "- \"You are a\"\n",
        "- \"few companies show\"\n",
        "- \"There are no\"\n",
        "- \"yesterday i was\"\n",
        "- \"the game had\"\n",
        "- \"yesterday the federal\"\n",
        "\n",
        "Do your predictions make sense? (If all of your predictions are the same,\n",
        "train your model for more iterations, or change the hyper parameters in your\n",
        "model. You may need to do this even if your training accuracy is >=37%)\n",
        "\n",
        "One concern you might have is that our model may be \"memorizing\" information\n",
        "from the training set.  Check if each of 3-grams (the 3 words appearing next\n",
        "to each other) appear in the training set. If so, what word occurs immediately\n",
        "following those three words?"
      ]
    },
    {
      "cell_type": "code",
      "metadata": {
        "id": "2HOp4sW3Swqo",
        "colab": {
          "base_uri": "https://localhost:8080/"
        },
        "outputId": "66c08f4b-3892-45d0-f31f-f46f32a035b8"
      },
      "source": [
        "sent = [[\"you\", \"are\", \"a\"],[\"few\", \"companies\", \"show\"],[\"there\", \"are\", \"no\"],[\"yesterday\", \"i\", \"was\"],[\"the\", \"game\", \"had\"],[\"yesterday\", \"the\", \"federal\"]]\r\n",
        "\r\n",
        "for s in sent:\r\n",
        "  predictedword = make_prediction_torch(pytorch_model, s)\r\n",
        "  print(\"Sentence with predicted next word: \" + str(s) + \" has prediceted next word: \" + predictedword)"
      ],
      "execution_count": null,
      "outputs": [
        {
          "output_type": "stream",
          "text": [
            "Sentence with predicted next word: ['you', 'are', 'a'] has prediceted next word: good\n",
            "Sentence with predicted next word: ['few', 'companies', 'show'] has prediceted next word: up\n",
            "Sentence with predicted next word: ['there', 'are', 'no'] has prediceted next word: other\n",
            "Sentence with predicted next word: ['yesterday', 'i', 'was'] has prediceted next word: nt\n",
            "Sentence with predicted next word: ['the', 'game', 'had'] has prediceted next word: to\n",
            "Sentence with predicted next word: ['yesterday', 'the', 'federal'] has prediceted next word: government\n"
          ],
          "name": "stdout"
        }
      ]
    },
    {
      "cell_type": "markdown",
      "metadata": {
        "id": "UCqc61mfSwqo"
      },
      "source": [
        "### Part (3) -- 1 points\n",
        "\n",
        "Report the test accuracy of your model. The test accuracy is the percentage\n",
        "of correct predictions across your test set."
      ]
    },
    {
      "cell_type": "code",
      "metadata": {
        "id": "oie1aBHJSwqo",
        "colab": {
          "base_uri": "https://localhost:8080/"
        },
        "outputId": "060c8fca-488f-43cf-d660-42a3a1a2566b"
      },
      "source": [
        "estimate_accuracy_torch(pytorch_model, test4grams)"
      ],
      "execution_count": null,
      "outputs": [
        {
          "output_type": "execute_result",
          "data": {
            "text/plain": [
              "0.3658073270013569"
            ]
          },
          "metadata": {
            "tags": []
          },
          "execution_count": 67
        }
      ]
    },
    {
      "cell_type": "markdown",
      "metadata": {
        "id": "wo0-vv0-Swqo"
      },
      "source": [
        "## Question 6. Visualizing Word Embeddings\n",
        "\n",
        "While training the `PyTorchWordEmb`, we trained the `word_emb_layer`, which takes a one-hot\n",
        "representation of a word in our vocabulary, and returns a low-dimensional vector\n",
        "representation of that word. In this question, we will explore these word embeddings.\n",
        "\n",
        "### Part (a) -- 1 pts\n",
        "\n",
        "The code below extracts the **weights** of the word embedding layer,\n",
        "and converts the PyTorch tensor into an numpy array.\n",
        "Explain why each *row* of `word_emb` contains the vector representing\n",
        "of a word. For example `word_emb[vocab_stoi[\"any\"],:]` contains the\n",
        "vector representation of the word \"any\"."
      ]
    },
    {
      "cell_type": "code",
      "metadata": {
        "id": "SZoBGTKNSwqo"
      },
      "source": [
        "word_emb_weights = list(pytorch_model.word_emb_layer.parameters())[0]\n",
        "word_emb = word_emb_weights.detach().numpy().T\n",
        "\n",
        "# The multiplication of the one hot vector of a word by word_emb contains a vector\n",
        "# of that word. The weights that are shown in the result are the weights that are\n",
        "# multiplied by the one_hot vector."
      ],
      "execution_count": null,
      "outputs": []
    },
    {
      "cell_type": "markdown",
      "metadata": {
        "id": "9xFYr4vZSwqo"
      },
      "source": [
        "### Part (b) -- 1 pts\n",
        "\n",
        "Once interesting thing about these word embeddings is that distances\n",
        "in these vector representations of words make some sense! To show this,\n",
        "we have provided code below that computes the cosine similarity of\n",
        "every pair of words in our vocabulary."
      ]
    },
    {
      "cell_type": "code",
      "metadata": {
        "id": "SXMNVaiASwqp",
        "colab": {
          "base_uri": "https://localhost:8080/"
        },
        "outputId": "64533a8d-f212-43d1-a5a7-c88a5e768335"
      },
      "source": [
        "norms = np.linalg.norm(word_emb, axis=1)\n",
        "word_emb_norm = (word_emb.T / norms).T\n",
        "similarities = np.matmul(word_emb_norm, word_emb_norm.T)\n",
        "\n",
        "# Some example distances. The first one should be larger than the second\n",
        "print(similarities[vocab_stoi['any'], vocab_stoi['many']])\n",
        "print(similarities[vocab_stoi['any'], vocab_stoi['government']])"
      ],
      "execution_count": null,
      "outputs": [
        {
          "output_type": "stream",
          "text": [
            "0.36301517\n",
            "0.09170631\n"
          ],
          "name": "stdout"
        }
      ]
    },
    {
      "cell_type": "markdown",
      "metadata": {
        "id": "gIG6i8JrSwqp"
      },
      "source": [
        "Compute the 5 closest words to the following words:\n",
        "\n",
        "- \"four\"\n",
        "- \"go\"\n",
        "- \"what\"\n",
        "- \"should\"\n",
        "- \"school\"\n",
        "- \"your\"\n",
        "- \"yesterday\"\n",
        "- \"not\""
      ]
    },
    {
      "cell_type": "code",
      "metadata": {
        "id": "D8cnKeSFSwqp",
        "colab": {
          "base_uri": "https://localhost:8080/"
        },
        "outputId": "26d5daa5-6d3b-4ca8-c86e-d9285297558e"
      },
      "source": [
        "def closefive(word):\r\n",
        "  s = np.argsort(similarities[vocab_stoi[word]])\r\n",
        "  cl5 = s[-6:-1]\r\n",
        "  cl5_list = []\r\n",
        "  for i in cl5:\r\n",
        "    cl5_list.append(vocab_itos[i])\r\n",
        "\r\n",
        "  return cl5_list\r\n",
        "\r\n",
        "words = ['four', 'go', 'what', 'should', 'school', 'your', 'yesterday', 'not']\r\n",
        "for word in words:\r\n",
        "  print(word + \": \" + str(closefive(word)))\r\n"
      ],
      "execution_count": null,
      "outputs": [
        {
          "output_type": "stream",
          "text": [
            "four: ['few', 'several', 'two', 'five', 'three']\n",
            "go: ['get', 'day', 'going', 'back', 'come']\n",
            "what: ['where', 'dr.', 'how', 'when', 'who']\n",
            "should: ['will', 'might', 'can', 'would', 'could']\n",
            "school: ['public', 'market', 'company', 'him', 'music']\n",
            "your: ['its', 'our', 'his', 'my', 'their']\n",
            "yesterday: ['night', 'ago', 'though', 'season', 'today']\n",
            "not: ['even', 'also', 'should', 'never', 'nt']\n"
          ],
          "name": "stdout"
        }
      ]
    },
    {
      "cell_type": "markdown",
      "metadata": {
        "id": "a_4NDzZMSwqp"
      },
      "source": [
        "### Part (c) -- 2 pts\n",
        "\n",
        "We can visualize the word embeddings by reducing the dimensionality of\n",
        "the word vectors to 2D. There are many dimensionality reduction techniques\n",
        "that we could use, and we will use an algorithm called t-SNE.\n",
        "(You don’t need to know what this is for the assignment,\n",
        "but we may cover it later in the course.)\n",
        "Nearby points in this 2-D space are meant to correspond to nearby points\n",
        "in the original, high-dimensional space.\n",
        "\n",
        "The following code runs the t-SNE algorithm and plots the result.\n",
        "Look at the plot and find two clusters of related words.\n",
        "What do the words in each cluster have in common?\n",
        "\n",
        "Note that there is randomness in the initialization of the t-SNE \n",
        "algorithm. If you re-run this code, you may get a different image.\n",
        "Please make sure to submit your image in the PDF file for your TA to see."
      ]
    },
    {
      "cell_type": "code",
      "metadata": {
        "id": "KzD6HpMvSwqp",
        "colab": {
          "base_uri": "https://localhost:8080/",
          "height": 600
        },
        "outputId": "ae8c23ae-7ccf-4203-ad65-13750e4c57b2"
      },
      "source": [
        "import sklearn.manifold\n",
        "tsne = sklearn.manifold.TSNE()\n",
        "Y = tsne.fit_transform(word_emb)\n",
        "\n",
        "plt.figure(figsize=(10, 10))\n",
        "plt.xlim(Y[:,0].min(), Y[:, 0].max())\n",
        "plt.ylim(Y[:,1].min(), Y[:, 1].max())\n",
        "for i, w in enumerate(vocab):\n",
        "    plt.text(Y[i, 0], Y[i, 1], w)\n",
        "plt.show()"
      ],
      "execution_count": null,
      "outputs": [
        {
          "output_type": "display_data",
          "data": {
            "image/png": "[encoded data removed]",
            "text/plain": [
              "<Figure size 720x720 with 1 Axes>"
            ]
          },
          "metadata": {
            "tags": [],
            "needs_background": "light"
          }
        }
      ]
    },
    {
      "cell_type": "markdown",
      "metadata": {
        "id": "SzlmEm6JSwqp"
      },
      "source": [
        "## Question 7. Work Allocation -- 2 pts\n",
        "\n",
        "This question is to make sure that if you are working with a partner, that\n",
        "you and your partner contributed equally to the assignment.\n",
        "\n",
        "Please have each team member write down the times that you worked on the\n",
        "assignment, and your contribution to the assignment."
      ]
    },
    {
      "cell_type": "code",
      "metadata": {
        "id": "LGPo6HQXSwqp"
      },
      "source": [
        "# Wafiqah and David read the assignment on our own time and discussed it on \n",
        "# Jan 22nd, 3pm-5pm. Wafiqah worked on the assignment Jan 22nd, 7pm-10pm Jan 23rd, 1pm - 4pm\n",
        "# David worked on the assignment Jan 23rd, 11am - 5pm, Jan 24th, 3pm - 6pm.\n",
        "# We had a meeting on Jan 25th, Jan 28th, Jan 31st, Feb 2nd, Feb 4th, and Feb 5th\n",
        "# all around 6pm - 11pm.\n",
        "\n",
        "# Wafiqah worked on Q1 and David reviewed the code.\n",
        "# David worked out the math for Q2 explained it to Wafiqah. Wafiqah drew the computation \n",
        "# graph and derivation for Q3. We worked on Q4 and Q5 together while screensharing. \n",
        "# Wafiqah completed the functions and explanation for Q6 and David reviewed them. \n"
      ],
      "execution_count": null,
      "outputs": []
    }
  ]
}